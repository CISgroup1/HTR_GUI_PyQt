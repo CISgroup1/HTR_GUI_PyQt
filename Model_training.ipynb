{
 "cells": [
  {
   "cell_type": "code",
   "execution_count": 1,
   "id": "97c67a57",
   "metadata": {},
   "outputs": [],
   "source": [
    "import numpy as np\n",
    "import pandas as pd\n",
    "from keras.preprocessing.image import ImageDataGenerator\n",
    "import os\n",
    "import random \n",
    "import cv2\n",
    "import matplotlib.pyplot as plt\n",
    "import seaborn as sns\n",
    "from sklearn.preprocessing import LabelBinarizer\n",
    "from keras.utils import np_utils\n",
    "from keras.models import Sequential\n",
    "from keras import optimizers\n",
    "from keras import backend as K\n",
    "from keras.layers import Dense, Activation, Flatten, Dense,MaxPooling2D, Dropout\n",
    "from keras.layers import Conv2D, MaxPooling2D, BatchNormalization\n",
    "import rdflib as rdf"
   ]
  },
  {
   "cell_type": "code",
   "execution_count": 27,
   "id": "6517340e",
   "metadata": {},
   "outputs": [
    {
     "ename": "KeyboardInterrupt",
     "evalue": "",
     "output_type": "error",
     "traceback": [
      "\u001b[1;31m---------------------------------------------------------------------------\u001b[0m",
      "\u001b[1;31mKeyboardInterrupt\u001b[0m                         Traceback (most recent call last)",
      "Input \u001b[1;32mIn [27]\u001b[0m, in \u001b[0;36m<cell line: 5>\u001b[1;34m()\u001b[0m\n\u001b[0;32m      6\u001b[0m sub_directory \u001b[38;5;241m=\u001b[39m os\u001b[38;5;241m.\u001b[39mpath\u001b[38;5;241m.\u001b[39mjoin(\u001b[38;5;28mdir\u001b[39m,i)\n\u001b[0;32m      7\u001b[0m \u001b[38;5;28;01mfor\u001b[39;00m j \u001b[38;5;129;01min\u001b[39;00m os\u001b[38;5;241m.\u001b[39mlistdir(sub_directory):\n\u001b[1;32m----> 8\u001b[0m     img \u001b[38;5;241m=\u001b[39m \u001b[43mcv2\u001b[49m\u001b[38;5;241;43m.\u001b[39;49m\u001b[43mimread\u001b[49m\u001b[43m(\u001b[49m\u001b[43mos\u001b[49m\u001b[38;5;241;43m.\u001b[39;49m\u001b[43mpath\u001b[49m\u001b[38;5;241;43m.\u001b[39;49m\u001b[43mjoin\u001b[49m\u001b[43m(\u001b[49m\u001b[43msub_directory\u001b[49m\u001b[43m,\u001b[49m\u001b[43mj\u001b[49m\u001b[43m)\u001b[49m\u001b[43m,\u001b[49m\u001b[38;5;241;43m0\u001b[39;49m\u001b[43m)\u001b[49m\n\u001b[0;32m      9\u001b[0m     img \u001b[38;5;241m=\u001b[39m cv2\u001b[38;5;241m.\u001b[39mresize(img,(img_size,img_size))\n\u001b[0;32m     10\u001b[0m     \u001b[38;5;28;01mif\u001b[39;00m i \u001b[38;5;241m==\u001b[39m \u001b[38;5;124m'\u001b[39m\u001b[38;5;124m0\u001b[39m\u001b[38;5;124m'\u001b[39m:\n",
      "\u001b[1;31mKeyboardInterrupt\u001b[0m: "
     ]
    }
   ],
   "source": [
    "dir = \"Train/\"\n",
    "train_data = []\n",
    "img_size = 32\n",
    "non_chars = [\"#\",\"$\",\"&\",\"@\", '1', '2', '3', '4', '5', '6', '7', '8', '9']\n",
    "for i in os.listdir(dir):\n",
    "    sub_directory = os.path.join(dir,i)\n",
    "    for j in os.listdir(sub_directory):\n",
    "        img = cv2.imread(os.path.join(sub_directory,j),0)\n",
    "        img = cv2.resize(img,(img_size,img_size))\n",
    "        if i == '0':\n",
    "            train_data.append([img,'O'])\n",
    "        else:\n",
    "            train_data.append([img,i])"
   ]
  },
  {
   "cell_type": "code",
   "execution_count": 3,
   "id": "b9ea4fe7",
   "metadata": {},
   "outputs": [
    {
     "data": {
      "text/plain": [
       "361622"
      ]
     },
     "execution_count": 3,
     "metadata": {},
     "output_type": "execute_result"
    }
   ],
   "source": [
    "len(train_data)"
   ]
  },
  {
   "cell_type": "code",
   "execution_count": 2,
   "id": "03899a77",
   "metadata": {},
   "outputs": [],
   "source": [
    "val_dir = \"Validation/\"\n",
    "val_data = []\n",
    "img_size = 32\n",
    "for i in os.listdir(val_dir):\n",
    "    sub_directory = os.path.join(val_dir,i)\n",
    "    for j in os.listdir(sub_directory):\n",
    "        img = cv2.imread(os.path.join(sub_directory,j),0)\n",
    "        img = cv2.resize(img,(img_size,img_size))\n",
    "        if i == '0':\n",
    "            val_data.append([img,'O'])\n",
    "        else:\n",
    "            val_data.append([img,i])"
   ]
  },
  {
   "cell_type": "code",
   "execution_count": 5,
   "id": "7c786fed",
   "metadata": {
    "scrolled": true
   },
   "outputs": [
    {
     "data": {
      "text/plain": [
       "7019"
      ]
     },
     "execution_count": 5,
     "metadata": {},
     "output_type": "execute_result"
    }
   ],
   "source": [
    "len(val_data)"
   ]
  },
  {
   "cell_type": "code",
   "execution_count": 6,
   "id": "7aa3c2a3",
   "metadata": {},
   "outputs": [
    {
     "ename": "NameError",
     "evalue": "name 'train_data' is not defined",
     "output_type": "error",
     "traceback": [
      "\u001b[1;31m---------------------------------------------------------------------------\u001b[0m",
      "\u001b[1;31mNameError\u001b[0m                                 Traceback (most recent call last)",
      "Input \u001b[1;32mIn [6]\u001b[0m, in \u001b[0;36m<cell line: 1>\u001b[1;34m()\u001b[0m\n\u001b[1;32m----> 1\u001b[0m random\u001b[38;5;241m.\u001b[39mshuffle(\u001b[43mtrain_data\u001b[49m)\n\u001b[0;32m      2\u001b[0m random\u001b[38;5;241m.\u001b[39mshuffle(val_data)\n",
      "\u001b[1;31mNameError\u001b[0m: name 'train_data' is not defined"
     ]
    }
   ],
   "source": [
    "random.shuffle(train_data)\n",
    "random.shuffle(val_data)"
   ]
  },
  {
   "cell_type": "code",
   "execution_count": 7,
   "id": "45dc06df",
   "metadata": {},
   "outputs": [],
   "source": [
    "train_X = []\n",
    "train_Y = []\n",
    "for features,label in train_data:\n",
    "    train_X.append(features)\n",
    "    train_Y.append(label)"
   ]
  },
  {
   "cell_type": "code",
   "execution_count": 30,
   "id": "820a9a71",
   "metadata": {},
   "outputs": [],
   "source": [
    "val_X = []\n",
    "val_Y = []\n",
    "for features,label in val_data:\n",
    "    val_X.append(features)\n",
    "    val_Y.append(label)"
   ]
  },
  {
   "cell_type": "code",
   "execution_count": 9,
   "id": "16b3150d",
   "metadata": {},
   "outputs": [],
   "source": [
    "textfile = open(\"train_Y.txt\", \"w\")\n",
    "for element in train_Y:\n",
    "    textfile.write(element + \"\\n\")\n",
    "textfile.close()\n",
    "\n",
    "textfile = open(\"val_Y.txt\", \"w\")\n",
    "for element in val_Y:\n",
    "    textfile.write(element + \"\\n\")\n",
    "textfile.close()"
   ]
  },
  {
   "cell_type": "code",
   "execution_count": 10,
   "id": "ae9812dc",
   "metadata": {},
   "outputs": [],
   "source": [
    "LB = LabelBinarizer()\n",
    "train_Y = LB.fit_transform(train_Y)\n",
    "val_Y = LB.fit_transform(val_Y)"
   ]
  },
  {
   "cell_type": "code",
   "execution_count": 11,
   "id": "6abaa4ab",
   "metadata": {},
   "outputs": [],
   "source": [
    "train_X = np.array(train_X)/255.0\n",
    "train_X = train_X.reshape(-1,32,32,1)\n",
    "train_Y = np.array(train_Y)"
   ]
  },
  {
   "cell_type": "code",
   "execution_count": 32,
   "id": "1a60051f",
   "metadata": {},
   "outputs": [],
   "source": [
    "val_X = np.array(val_X)/255.0\n",
    "val_X = val_X.reshape(-1,32,32,1)\n",
    "val_Y = np.array(val_Y)"
   ]
  },
  {
   "cell_type": "code",
   "execution_count": 13,
   "id": "bcc1ba3c",
   "metadata": {},
   "outputs": [
    {
     "name": "stdout",
     "output_type": "stream",
     "text": [
      "(361622, 32, 32, 1) (7019, 32, 32, 1)\n"
     ]
    }
   ],
   "source": [
    "print(train_X.shape,val_X.shape)"
   ]
  },
  {
   "cell_type": "code",
   "execution_count": 33,
   "id": "84d51bbe",
   "metadata": {},
   "outputs": [
    {
     "ename": "NameError",
     "evalue": "name 'train_Y' is not defined",
     "output_type": "error",
     "traceback": [
      "\u001b[1;31m---------------------------------------------------------------------------\u001b[0m",
      "\u001b[1;31mNameError\u001b[0m                                 Traceback (most recent call last)",
      "Input \u001b[1;32mIn [33]\u001b[0m, in \u001b[0;36m<cell line: 1>\u001b[1;34m()\u001b[0m\n\u001b[1;32m----> 1\u001b[0m \u001b[38;5;28mprint\u001b[39m(\u001b[43mtrain_Y\u001b[49m\u001b[38;5;241m.\u001b[39mshape,val_Y\u001b[38;5;241m.\u001b[39mshape)\n",
      "\u001b[1;31mNameError\u001b[0m: name 'train_Y' is not defined"
     ]
    }
   ],
   "source": [
    "print(train_Y.shape,val_Y.shape)"
   ]
  },
  {
   "cell_type": "code",
   "execution_count": 3,
   "id": "b4335118",
   "metadata": {},
   "outputs": [
    {
     "ename": "BadSyntax",
     "evalue": "at line 7 of <>:\nBad syntax (objectList expected) at ^ in:\n\"...b'-syntax-ns#>.\\n\\nind:hyp0 a class:Hyperparameter;\\n\\t\\trdfs:label'^b' batch_size;\\n\\t\\trdfs:Literal 64.\\n\\nind:hyp1 a class:Hyperparam'...\"",
     "output_type": "error",
     "traceback": [
      "Traceback \u001b[1;36m(most recent call last)\u001b[0m:\n",
      "  File \u001b[0;32mD:\\Anaconda\\lib\\site-packages\\IPython\\core\\interactiveshell.py:3369\u001b[0m in \u001b[0;35mrun_code\u001b[0m\n    exec(code_obj, self.user_global_ns, self.user_ns)\n",
      "  Input \u001b[0;32mIn [3]\u001b[0m in \u001b[0;35m<cell line: 2>\u001b[0m\n    knowledge_source = graph.parse(file=open(\"KB.n3\", \"r\"), format=\"text/n3\")\n",
      "  File \u001b[0;32mD:\\Anaconda\\lib\\site-packages\\rdflib\\graph.py:1267\u001b[0m in \u001b[0;35mparse\u001b[0m\n    raise se\n",
      "  File \u001b[0;32mD:\\Anaconda\\lib\\site-packages\\rdflib\\graph.py:1258\u001b[0m in \u001b[0;35mparse\u001b[0m\n    parser.parse(source, self, **args)  # type: ignore[call-arg]\n",
      "  File \u001b[0;32mD:\\Anaconda\\lib\\site-packages\\rdflib\\plugins\\parsers\\notation3.py:1947\u001b[0m in \u001b[0;35mparse\u001b[0m\n    TurtleParser.parse(self, source, conj_graph, encoding, turtle=False)\n",
      "  File \u001b[0;32mD:\\Anaconda\\lib\\site-packages\\rdflib\\plugins\\parsers\\notation3.py:1913\u001b[0m in \u001b[0;35mparse\u001b[0m\n    p.loadStream(stream)\n",
      "  File \u001b[0;32mD:\\Anaconda\\lib\\site-packages\\rdflib\\plugins\\parsers\\notation3.py:434\u001b[0m in \u001b[0;35mloadStream\u001b[0m\n    return self.loadBuf(stream.read())  # Not ideal\n",
      "  File \u001b[0;32mD:\\Anaconda\\lib\\site-packages\\rdflib\\plugins\\parsers\\notation3.py:440\u001b[0m in \u001b[0;35mloadBuf\u001b[0m\n    self.feed(buf)\n",
      "  File \u001b[0;32mD:\\Anaconda\\lib\\site-packages\\rdflib\\plugins\\parsers\\notation3.py:466\u001b[0m in \u001b[0;35mfeed\u001b[0m\n    i = self.directiveOrStatement(s, j)\n",
      "  File \u001b[0;32mD:\\Anaconda\\lib\\site-packages\\rdflib\\plugins\\parsers\\notation3.py:486\u001b[0m in \u001b[0;35mdirectiveOrStatement\u001b[0m\n    j = self.statement(argstr, i)\n",
      "  File \u001b[0;32mD:\\Anaconda\\lib\\site-packages\\rdflib\\plugins\\parsers\\notation3.py:733\u001b[0m in \u001b[0;35mstatement\u001b[0m\n    j = self.property_list(argstr, i, r[0])\n",
      "  File \u001b[0;32mD:\\Anaconda\\lib\\site-packages\\rdflib\\plugins\\parsers\\notation3.py:1083\u001b[0m in \u001b[0;35mproperty_list\u001b[0m\n    self.BadSyntax(argstr, j, \"objectList expected\")\n",
      "\u001b[1;36m  File \u001b[1;32mD:\\Anaconda\\lib\\site-packages\\rdflib\\plugins\\parsers\\notation3.py:1646\u001b[1;36m in \u001b[1;35mBadSyntax\u001b[1;36m\u001b[0m\n\u001b[1;33m    raise BadSyntax(self._thisDoc, self.lines, argstr, i, msg)\u001b[0m\n",
      "\u001b[1;36m  File \u001b[1;32m<string>\u001b[1;36m\u001b[0m\n\u001b[1;31mBadSyntax\u001b[0m\n"
     ]
    }
   ],
   "source": [
    "graph = rdf.Graph()\n",
    "knowledge_source = graph.parse(file=open(\"KB.n3\", \"r\"), format=\"text/n3\")\n"
   ]
  },
  {
   "cell_type": "code",
   "execution_count": null,
   "id": "e07c061d",
   "metadata": {},
   "outputs": [],
   "source": [
    "def query_result(label):\n",
    "    result = graph.query(f\"\"\"SELECT ?value\n",
    "       WHERE {{\n",
    "          ?ind rdfs:label {label}.\n",
    "          ?ind rdf:value ?value.\n",
    "       }}\"\"\")\n",
    "    return label_result(result)"
   ]
  },
  {
   "cell_type": "code",
   "execution_count": null,
   "id": "28343750",
   "metadata": {},
   "outputs": [],
   "source": [
    "def label_result(result):\n",
    "    for row in result:\n",
    "        data = int(row.asdict()['value'])\n",
    "    return data"
   ]
  },
  {
   "cell_type": "code",
   "execution_count": null,
   "id": "3079f023",
   "metadata": {},
   "outputs": [],
   "source": [
    "batch_size = query_result('\\'batch_size\\'')\n",
    "epochs = query_result('\\'epochs\\'')\n",
    "CNN_kernel_size = query_result('\\'CNN_kernel_size\\'')\n",
    "MaxPooling_kernel_size = query_result('\\'MaxPooling_kernel_size\\'')"
   ]
  },
  {
   "cell_type": "code",
   "execution_count": 15,
   "id": "cb8a61df",
   "metadata": {},
   "outputs": [],
   "source": [
    "model = Sequential()\n",
    "\n",
    "model.add(Conv2D(32, kernel_size=(CNN_kernel_size, CNN_kernel_size),activation='linear',padding='same',input_shape=(32,32,1)))\n",
    "model.add(LeakyReLU(alpha=0.1))\n",
    "model.add(MaxPooling2D((MaxPooling_kernel_size, MaxPooling_kernel_size),padding='same'))\n",
    "model.add(Dropout(0.25))\n",
    "model.add(Conv2D(64, (CNN_kernel_size, CNN_kernel_size), activation='linear',padding='same'))\n",
    "model.add(LeakyReLU(alpha=0.1))\n",
    "model.add(MaxPooling2D(pool_size=(MaxPooling_kernel_size, MaxPooling_kernel_size),padding='same'))\n",
    "model.add(Dropout(0.25))\n",
    "model.add(Conv2D(128, (CNN_kernel_size, CNN_kernel_size), activation='linear',padding='same'))\n",
    "model.add(LeakyReLU(alpha=0.1))                  \n",
    "model.add(MaxPooling2D(pool_size=(MaxPooling_kernel_size, MaxPooling_kernel_size),padding='same'))\n",
    "model.add(Dropout(0.4))\n",
    "model.add(Flatten())\n",
    "model.add(Dense(128, activation='linear'))\n",
    "model.add(LeakyReLU(alpha=0.1))           \n",
    "model.add(Dropout(0.3))\n",
    "model.add(Dense(26, activation='softmax'))"
   ]
  },
  {
   "cell_type": "code",
   "execution_count": 16,
   "id": "e038536b",
   "metadata": {},
   "outputs": [
    {
     "name": "stdout",
     "output_type": "stream",
     "text": [
      "Model: \"sequential\"\n",
      "_________________________________________________________________\n",
      " Layer (type)                Output Shape              Param #   \n",
      "=================================================================\n",
      " conv2d (Conv2D)             (None, 32, 32, 32)        320       \n",
      "                                                                 \n",
      " max_pooling2d (MaxPooling2D  (None, 16, 16, 32)       0         \n",
      " )                                                               \n",
      "                                                                 \n",
      " conv2d_1 (Conv2D)           (None, 14, 14, 64)        18496     \n",
      "                                                                 \n",
      " max_pooling2d_1 (MaxPooling  (None, 7, 7, 64)         0         \n",
      " 2D)                                                             \n",
      "                                                                 \n",
      " conv2d_2 (Conv2D)           (None, 5, 5, 128)         73856     \n",
      "                                                                 \n",
      " max_pooling2d_2 (MaxPooling  (None, 2, 2, 128)        0         \n",
      " 2D)                                                             \n",
      "                                                                 \n",
      " dropout (Dropout)           (None, 2, 2, 128)         0         \n",
      "                                                                 \n",
      " flatten (Flatten)           (None, 512)               0         \n",
      "                                                                 \n",
      " dense (Dense)               (None, 128)               65664     \n",
      "                                                                 \n",
      " dropout_1 (Dropout)         (None, 128)               0         \n",
      "                                                                 \n",
      " dense_1 (Dense)             (None, 26)                3354      \n",
      "                                                                 \n",
      "=================================================================\n",
      "Total params: 161,690\n",
      "Trainable params: 161,690\n",
      "Non-trainable params: 0\n",
      "_________________________________________________________________\n"
     ]
    }
   ],
   "source": [
    "model.summary()"
   ]
  },
  {
   "cell_type": "code",
   "execution_count": 17,
   "id": "73bf706d",
   "metadata": {},
   "outputs": [],
   "source": [
    "model.compile(loss='categorical_crossentropy', optimizer=\"adam\",metrics=['accuracy'])"
   ]
  },
  {
   "cell_type": "code",
   "execution_count": 18,
   "id": "9af4ba2f",
   "metadata": {
    "scrolled": true
   },
   "outputs": [
    {
     "name": "stdout",
     "output_type": "stream",
     "text": [
      "Epoch 1/6\n",
      "11301/11301 [==============================] - 612s 54ms/step - loss: 0.2975 - accuracy: 0.9057 - val_loss: 0.2582 - val_accuracy: 0.9031\n",
      "Epoch 2/6\n",
      "11301/11301 [==============================] - 591s 52ms/step - loss: 0.1836 - accuracy: 0.9399 - val_loss: 0.2206 - val_accuracy: 0.9191\n",
      "Epoch 3/6\n",
      "11301/11301 [==============================] - 602s 53ms/step - loss: 0.1670 - accuracy: 0.9441 - val_loss: 0.1826 - val_accuracy: 0.9330\n",
      "Epoch 4/6\n",
      "11301/11301 [==============================] - 572s 51ms/step - loss: 0.1571 - accuracy: 0.9471 - val_loss: 0.1893 - val_accuracy: 0.9342\n",
      "Epoch 5/6\n",
      "11301/11301 [==============================] - 516s 46ms/step - loss: 0.1513 - accuracy: 0.9484 - val_loss: 0.1882 - val_accuracy: 0.9263\n",
      "Epoch 6/6\n",
      "11301/11301 [==============================] - 513s 45ms/step - loss: 0.1466 - accuracy: 0.9495 - val_loss: 0.1813 - val_accuracy: 0.9347\n"
     ]
    }
   ],
   "source": [
    "history = model.fit(train_X, train_Y, batch_size=batch_size,epochs=epochs,verbose=1,validation_data=(val_X, val_Y))"
   ]
  },
  {
   "cell_type": "code",
   "execution_count": 34,
   "id": "da934ed4",
   "metadata": {},
   "outputs": [],
   "source": [
    "model.save('model.h5')"
   ]
  },
  {
   "cell_type": "code",
   "execution_count": null,
   "id": "87dc9fa2",
   "metadata": {},
   "outputs": [],
   "source": [
    "def kb_update(label, value, old_value):\n",
    "    result = graph.update(f\"\"\"DELETE {{?ind rdf:value {old_value}}}\n",
    "       INSERT {{?ind rdf:value {value}}}\n",
    "       WHERE {{\n",
    "          ?ind rdfs:label '{label}'\n",
    "       }}\"\"\")\n",
    "    knowledge_source.serialize(destination=\"KB.n3\")\n",
    "    return print(f'{label} value updated!')"
   ]
  },
  {
   "cell_type": "code",
   "execution_count": 35,
   "id": "56b766cf",
   "metadata": {},
   "outputs": [
    {
     "data": {
      "image/png": "[encoded data removed]",
      "text/plain": [
       "<Figure size 432x288 with 1 Axes>"
      ]
     },
     "metadata": {
      "needs_background": "light"
     },
     "output_type": "display_data"
    }
   ],
   "source": [
    "plt.plot(history.history['accuracy'])\n",
    "plt.plot(history.history['val_accuracy'])\n",
    "plt.title('Training Accuracy vs Validation Accuracy')\n",
    "plt.ylabel('Accuracy')\n",
    "plt.xlabel('Epoch')\n",
    "plt.legend(['Train', 'Validation'], loc='upper left')\n",
    "plt.show()"
   ]
  },
  {
   "cell_type": "code",
   "execution_count": 36,
   "id": "b4e7faea",
   "metadata": {},
   "outputs": [
    {
     "data": {
      "image/png": "[encoded data removed]",
      "text/plain": [
       "<Figure size 432x288 with 1 Axes>"
      ]
     },
     "metadata": {
      "needs_background": "light"
     },
     "output_type": "display_data"
    }
   ],
   "source": [
    "plt.plot(history.history['loss'])\n",
    "plt.plot(history.history['val_loss'])\n",
    "plt.title('Training Loss vs Validation Loss')\n",
    "plt.ylabel('Loss')\n",
    "plt.xlabel('Epoch')\n",
    "plt.legend(['Train', 'Validation'], loc='upper left')\n",
    "plt.show()"
   ]
  },
  {
   "cell_type": "code",
   "execution_count": null,
   "id": "90400d81",
   "metadata": {},
   "outputs": [],
   "source": []
  }
 ],
 "metadata": {
  "kernelspec": {
   "display_name": "Python 3 (ipykernel)",
   "language": "python",
   "name": "python3"
  },
  "language_info": {
   "codemirror_mode": {
    "name": "ipython",
    "version": 3
   },
   "file_extension": ".py",
   "mimetype": "text/x-python",
   "name": "python",
   "nbconvert_exporter": "python",
   "pygments_lexer": "ipython3",
   "version": "3.9.7"
  }
 },
 "nbformat": 4,
 "nbformat_minor": 5
}
